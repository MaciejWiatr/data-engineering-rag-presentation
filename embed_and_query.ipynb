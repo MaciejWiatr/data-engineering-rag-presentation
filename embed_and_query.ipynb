{
 "cells": [
  {
   "cell_type": "code",
   "execution_count": 8,
   "metadata": {},
   "outputs": [],
   "source": [
    "from openai import OpenAI\n",
    "\n",
    "key_file = open('.key', 'r')\n",
    "OPENAI_KEY = key_file.read()\n",
    "key_file.close()\n",
    "client = OpenAI(api_key=OPENAI_KEY)"
   ]
  },
  {
   "cell_type": "code",
   "execution_count": 7,
   "metadata": {},
   "outputs": [],
   "source": [
    "def chunk_text(text, max_chars=3000):\n",
    "    \"\"\"Split text into chunks of approximately max_chars characters\"\"\"\n",
    "    words = text.split()\n",
    "    chunks = []\n",
    "    current_chunk = []\n",
    "    current_length = 0\n",
    "    \n",
    "    for word in words:\n",
    "        if current_length + len(word) + 1 > max_chars and current_chunk:\n",
    "            chunks.append(' '.join(current_chunk))\n",
    "            current_chunk = [word]\n",
    "            current_length = len(word)\n",
    "        else:\n",
    "            current_chunk.append(word)\n",
    "            current_length += len(word) + 1\n",
    "            \n",
    "    if current_chunk:\n",
    "        chunks.append(' '.join(current_chunk))\n",
    "    return chunks\n",
    "\n",
    "def emb_text(text):\n",
    "    return (\n",
    "        client.embeddings.create(input=text, model=\"text-embedding-3-small\")\n",
    "        .data[0]\n",
    "        .embedding\n",
    "    )"
   ]
  },
  {
   "cell_type": "code",
   "execution_count": 26,
   "metadata": {},
   "outputs": [
    {
     "name": "stderr",
     "output_type": "stream",
     "text": [
      "Processing files:   0%|          | 0/11 [00:00<?, ?it/s]"
     ]
    },
    {
     "name": "stdout",
     "output_type": "stream",
     "text": [
      "Processed aktualnosci_.txt_chunk_0\n"
     ]
    },
    {
     "name": "stderr",
     "output_type": "stream",
     "text": [
      "Processing chunks: 100%|██████████| 2/2 [00:00<00:00,  2.29it/s]\n",
      "Processing files:   9%|▉         | 1/11 [00:00<00:08,  1.14it/s]"
     ]
    },
    {
     "name": "stdout",
     "output_type": "stream",
     "text": [
      "Processed aktualnosci_.txt_chunk_1\n"
     ]
    },
    {
     "name": "stderr",
     "output_type": "stream",
     "text": []
    },
    {
     "name": "stdout",
     "output_type": "stream",
     "text": [
      "Processed dzialalnosc-wsei_.txt_chunk_0\n"
     ]
    },
    {
     "name": "stderr",
     "output_type": "stream",
     "text": [
      "Processing chunks: 100%|██████████| 2/2 [00:00<00:00,  3.40it/s]\n",
      "Processing files:  18%|█▊        | 2/11 [00:01<00:06,  1.40it/s]"
     ]
    },
    {
     "name": "stdout",
     "output_type": "stream",
     "text": [
      "Processed dzialalnosc-wsei_.txt_chunk_1\n"
     ]
    },
    {
     "name": "stderr",
     "output_type": "stream",
     "text": []
    },
    {
     "name": "stdout",
     "output_type": "stream",
     "text": [
      "Processed home.txt_chunk_0\n"
     ]
    },
    {
     "name": "stderr",
     "output_type": "stream",
     "text": []
    },
    {
     "name": "stdout",
     "output_type": "stream",
     "text": [
      "Processed home.txt_chunk_1\n"
     ]
    },
    {
     "name": "stderr",
     "output_type": "stream",
     "text": [
      "Processing chunks: 100%|██████████| 3/3 [00:01<00:00,  2.61it/s]\n",
      "Processing files:  27%|██▋       | 3/11 [00:02<00:07,  1.09it/s]"
     ]
    },
    {
     "name": "stdout",
     "output_type": "stream",
     "text": [
      "Processed home.txt_chunk_2\n"
     ]
    },
    {
     "name": "stderr",
     "output_type": "stream",
     "text": []
    },
    {
     "name": "stdout",
     "output_type": "stream",
     "text": [
      "Processed informatyka-stosowana-ii-stopnia_.txt_chunk_0\n"
     ]
    },
    {
     "name": "stderr",
     "output_type": "stream",
     "text": [
      "Processing chunks: 100%|██████████| 2/2 [00:00<00:00,  3.31it/s]\n",
      "Processing files:  36%|███▋      | 4/11 [00:03<00:05,  1.25it/s]"
     ]
    },
    {
     "name": "stdout",
     "output_type": "stream",
     "text": [
      "Processed informatyka-stosowana-ii-stopnia_.txt_chunk_1\n"
     ]
    },
    {
     "name": "stderr",
     "output_type": "stream",
     "text": []
    },
    {
     "name": "stdout",
     "output_type": "stream",
     "text": [
      "Processed kandydaci_program-wysokie-loty_.txt_chunk_0\n"
     ]
    },
    {
     "name": "stderr",
     "output_type": "stream",
     "text": []
    },
    {
     "name": "stdout",
     "output_type": "stream",
     "text": [
      "Processed kandydaci_program-wysokie-loty_.txt_chunk_1\n"
     ]
    },
    {
     "name": "stderr",
     "output_type": "stream",
     "text": [
      "Processing chunks: 100%|██████████| 3/3 [00:00<00:00,  3.24it/s]\n",
      "Processing files:  45%|████▌     | 5/11 [00:04<00:05,  1.17it/s]"
     ]
    },
    {
     "name": "stdout",
     "output_type": "stream",
     "text": [
      "Processed kandydaci_program-wysokie-loty_.txt_chunk_2\n"
     ]
    },
    {
     "name": "stderr",
     "output_type": "stream",
     "text": []
    },
    {
     "name": "stdout",
     "output_type": "stream",
     "text": [
      "Processed kandydaci_studia-i-stopnia_informatyka-stosowana_.txt_chunk_0\n"
     ]
    },
    {
     "name": "stderr",
     "output_type": "stream",
     "text": []
    },
    {
     "name": "stdout",
     "output_type": "stream",
     "text": [
      "Processed kandydaci_studia-i-stopnia_informatyka-stosowana_.txt_chunk_1\n"
     ]
    },
    {
     "name": "stderr",
     "output_type": "stream",
     "text": []
    },
    {
     "name": "stdout",
     "output_type": "stream",
     "text": [
      "Processed kandydaci_studia-i-stopnia_informatyka-stosowana_.txt_chunk_2\n"
     ]
    },
    {
     "name": "stderr",
     "output_type": "stream",
     "text": [
      "Processing chunks: 100%|██████████| 4/4 [00:01<00:00,  3.14it/s]\n",
      "Processing files:  55%|█████▍    | 6/11 [00:05<00:05,  1.01s/it]"
     ]
    },
    {
     "name": "stdout",
     "output_type": "stream",
     "text": [
      "Processed kandydaci_studia-i-stopnia_informatyka-stosowana_.txt_chunk_3\n"
     ]
    },
    {
     "name": "stderr",
     "output_type": "stream",
     "text": []
    },
    {
     "name": "stdout",
     "output_type": "stream",
     "text": [
      "Processed o-wsei_dlaczego-warto_.txt_chunk_0\n"
     ]
    },
    {
     "name": "stderr",
     "output_type": "stream",
     "text": [
      "Processing chunks: 100%|██████████| 2/2 [00:00<00:00,  3.59it/s]\n",
      "Processing files:  64%|██████▎   | 7/11 [00:06<00:03,  1.15it/s]"
     ]
    },
    {
     "name": "stdout",
     "output_type": "stream",
     "text": [
      "Processed o-wsei_dlaczego-warto_.txt_chunk_1\n"
     ]
    },
    {
     "name": "stderr",
     "output_type": "stream",
     "text": []
    },
    {
     "name": "stdout",
     "output_type": "stream",
     "text": [
      "Processed oferta-edukacyjna_.txt_chunk_0\n"
     ]
    },
    {
     "name": "stderr",
     "output_type": "stream",
     "text": []
    },
    {
     "name": "stdout",
     "output_type": "stream",
     "text": [
      "Processed oferta-edukacyjna_.txt_chunk_1\n"
     ]
    },
    {
     "name": "stderr",
     "output_type": "stream",
     "text": [
      "Processing chunks: 100%|██████████| 3/3 [00:01<00:00,  2.91it/s]\n",
      "Processing files:  73%|███████▎  | 8/11 [00:07<00:02,  1.07it/s]"
     ]
    },
    {
     "name": "stdout",
     "output_type": "stream",
     "text": [
      "Processed oferta-edukacyjna_.txt_chunk_2\n"
     ]
    },
    {
     "name": "stderr",
     "output_type": "stream",
     "text": []
    },
    {
     "name": "stdout",
     "output_type": "stream",
     "text": [
      "Processed projekty_.txt_chunk_0\n"
     ]
    },
    {
     "name": "stderr",
     "output_type": "stream",
     "text": []
    },
    {
     "name": "stdout",
     "output_type": "stream",
     "text": [
      "Processed projekty_.txt_chunk_1\n"
     ]
    },
    {
     "name": "stderr",
     "output_type": "stream",
     "text": [
      "Processing chunks: 100%|██████████| 3/3 [00:00<00:00,  3.62it/s]\n",
      "Processing files:  82%|████████▏ | 9/11 [00:08<00:01,  1.09it/s]"
     ]
    },
    {
     "name": "stdout",
     "output_type": "stream",
     "text": [
      "Processed projekty_.txt_chunk_2\n"
     ]
    },
    {
     "name": "stderr",
     "output_type": "stream",
     "text": []
    },
    {
     "name": "stdout",
     "output_type": "stream",
     "text": [
      "Processed studenci_.txt_chunk_0\n"
     ]
    },
    {
     "name": "stderr",
     "output_type": "stream",
     "text": [
      "Processing chunks: 100%|██████████| 2/2 [00:00<00:00,  3.46it/s]\n",
      "Processing files:  91%|█████████ | 10/11 [00:08<00:00,  1.21it/s]"
     ]
    },
    {
     "name": "stdout",
     "output_type": "stream",
     "text": [
      "Processed studenci_.txt_chunk_1\n"
     ]
    },
    {
     "name": "stderr",
     "output_type": "stream",
     "text": []
    },
    {
     "name": "stdout",
     "output_type": "stream",
     "text": [
      "Processed zaklady-naukowo-dydaktyczne_zaklad-informatyki_.txt_chunk_0\n"
     ]
    },
    {
     "name": "stderr",
     "output_type": "stream",
     "text": []
    },
    {
     "name": "stdout",
     "output_type": "stream",
     "text": [
      "Processed zaklady-naukowo-dydaktyczne_zaklad-informatyki_.txt_chunk_1\n"
     ]
    },
    {
     "name": "stderr",
     "output_type": "stream",
     "text": []
    },
    {
     "name": "stdout",
     "output_type": "stream",
     "text": [
      "Processed zaklady-naukowo-dydaktyczne_zaklad-informatyki_.txt_chunk_2\n"
     ]
    },
    {
     "name": "stderr",
     "output_type": "stream",
     "text": []
    },
    {
     "name": "stdout",
     "output_type": "stream",
     "text": [
      "Processed zaklady-naukowo-dydaktyczne_zaklad-informatyki_.txt_chunk_3\n"
     ]
    },
    {
     "name": "stderr",
     "output_type": "stream",
     "text": []
    },
    {
     "name": "stdout",
     "output_type": "stream",
     "text": [
      "Processed zaklady-naukowo-dydaktyczne_zaklad-informatyki_.txt_chunk_4\n"
     ]
    },
    {
     "name": "stderr",
     "output_type": "stream",
     "text": []
    },
    {
     "name": "stdout",
     "output_type": "stream",
     "text": [
      "Processed zaklady-naukowo-dydaktyczne_zaklad-informatyki_.txt_chunk_5\n"
     ]
    },
    {
     "name": "stderr",
     "output_type": "stream",
     "text": []
    },
    {
     "name": "stdout",
     "output_type": "stream",
     "text": [
      "Processed zaklady-naukowo-dydaktyczne_zaklad-informatyki_.txt_chunk_6\n"
     ]
    },
    {
     "name": "stderr",
     "output_type": "stream",
     "text": [
      "Processing chunks: 100%|██████████| 8/8 [00:03<00:00,  2.40it/s]\n",
      "Processing files: 100%|██████████| 11/11 [00:12<00:00,  1.10s/it]"
     ]
    },
    {
     "name": "stdout",
     "output_type": "stream",
     "text": [
      "Processed zaklady-naukowo-dydaktyczne_zaklad-informatyki_.txt_chunk_7\n",
      "Finished processing documents\n"
     ]
    },
    {
     "name": "stderr",
     "output_type": "stream",
     "text": [
      "\n"
     ]
    }
   ],
   "source": [
    "# read all files from ./_data/clean/\n",
    "import os\n",
    "import json\n",
    "from tqdm import tqdm\n",
    "\n",
    "documents = []\n",
    "\n",
    "def save_documents(documents):\n",
    "    with open('./_data/processed_documents.json', 'w', encoding='utf-8') as f:\n",
    "        json.dump(documents, f, ensure_ascii=False, indent=2)\n",
    "\n",
    "for file in tqdm(os.listdir('./_data/clean/'), desc=\"Processing files\"):\n",
    "    with open(f'./_data/clean/{file}', 'r', encoding='utf-8') as f:\n",
    "        text = f.read()\n",
    "        # Split text into chunks\n",
    "        chunks = chunk_text(text)\n",
    "        \n",
    "        # Process each chunk separately\n",
    "        for i, chunk in enumerate(tqdm(chunks, desc=\"Processing chunks\")):\n",
    "            chunk_id = f\"{file}_chunk_{i}\"\n",
    "            documents.append({\n",
    "                \"id\": chunk_id,\n",
    "                \"text\": chunk,\n",
    "                \"metadata\": {\n",
    "                    \"source\": file,\n",
    "                    \"chunk_index\": i\n",
    "                },\n",
    "                \"embedding\": emb_text(chunk)\n",
    "            })\n",
    "            print(f\"Processed {chunk_id}\")\n",
    "        \n",
    "    save_documents(documents)\n",
    "\n",
    "print(\"Finished processing documents\")\n"
   ]
  },
  {
   "cell_type": "code",
   "execution_count": 5,
   "metadata": {},
   "outputs": [],
   "source": [
    "import chromadb\n",
    "\n",
    "chroma_client = chromadb.PersistentClient(path=\"./chroma_db\")\n",
    "\n",
    "collection = chroma_client.get_or_create_collection(\"wsei_data\")\n"
   ]
  },
  {
   "cell_type": "code",
   "execution_count": 28,
   "metadata": {},
   "outputs": [
    {
     "name": "stderr",
     "output_type": "stream",
     "text": [
      "Adding documents to collection: 100%|██████████| 34/34 [00:00<00:00, 55.19it/s]"
     ]
    },
    {
     "name": "stdout",
     "output_type": "stream",
     "text": [
      "Finished adding documents to collection\n"
     ]
    },
    {
     "name": "stderr",
     "output_type": "stream",
     "text": [
      "\n"
     ]
    }
   ],
   "source": [
    "document = json.load(open('./_data/processed_documents.json', 'r', encoding='utf-8'))\n",
    "\n",
    "\n",
    "for doc in tqdm(document, desc=\"Adding documents to collection\"):\n",
    "    collection.add(\n",
    "        documents=[doc[\"text\"]],\n",
    "        metadatas=[doc[\"metadata\"]],\n",
    "        embeddings=[doc[\"embedding\"]],\n",
    "        ids=[doc[\"id\"]]\n",
    "    )\n",
    "\n",
    "print(\"Finished adding documents to collection\")"
   ]
  },
  {
   "cell_type": "code",
   "execution_count": 14,
   "metadata": {},
   "outputs": [
    {
     "name": "stdout",
     "output_type": "stream",
     "text": [
      "{'ids': [['studenci_.txt_chunk_1', 'kandydaci_studia-i-stopnia_informatyka-stosowana_.txt_chunk_0']], 'embeddings': None, 'documents': [[\"otwiera przed Tobą nowe horyzonty nauki! Opłaty za studia Chcesz wiedzieć, jakie korzyści płyną z inwestycji w edukację? Sprawdź zakładkę opłat za studia i dowiedz się więcej o atrakcyjnych warunkach finansowania Twojego rozwoju na WSEI! Certyfikaty W Wyższej Szkole Ekonomii i Informatyki w Krakowie wierzymy, że edukacja to nie tylko zdobywanie wiedzy, ale przede wszystkim jej praktyczne potwierdzenie. Biblioteka W celu otrzymania kodu dostępu należy skontaktować się on line z pracownikiem biblioteki. Samorząd studentów Studiowanie nie polega wyłącznie na zdobywaniu wiedzy naukowej – to okres nabywania szeregu nowych, życiowych doświadczeń. Wobec studentów chętnych do podjęcia współpracy, staramy się o możliwie odpowiednie środowisko osobistego rozwoju. Koła naukowe Wyższa Szkoła Ekonomii i Informatyki w Krakowie aktywnie uczestniczy w rozwoju zainteresowań zawodowych i pasji naukowych studentów. Od wielu lat w Uczelni funkcjonują koła naukowe, w których studenci mogą zgłębiać wiedzę. Biuro Współpracy Międzynarodowej Współpraca międzynarodowa zajmuje znaczące miejsce w działaniach Wyższej Szkoły Ekonomii i Informatyki. Poprzez tworzenie strategicznych partnerstw z zagranicznymi uczelniami, udział w projektach międzynarodowych, czy też organizację konferencji naukowych. Biuro Karier Zapraszamy do zakładki 'Biuro Karier', gdzie pomożemy Ci zrobić pierwszy krok w kierunku Twojej wymarzonej kariery! Biuro Pełnomocnika Rektora ds. osób niepełnosprawnych Biuro Pełnomocnika Rektora ds. Osób Niepełnosprawnych koordynuje i wykonuje działania, które mają na celu stworzenie warunków do pełnego uczestnictwa osób z niepełnosprawnością we wszystkich obszarach życia akademickiego. 20 lat WSEI ul. Św. Filipa 17, 31-150 Kraków, Polska Zadzwoń: +48 12 431 18 90 Napisz: kancelaria@wsei.edu.pl Przejdź do Google Maps Zobacz również Biuro karier Koła naukowe Platforma E.WSEI Park technologiczny BIP WSEI Polub nas Facebook Instagram YouTube Linkedin TikTok Newsletter Zapisz się do naszego newslettera, aby otrzymywać najnowsze informacje i wiadomości o WSEI.\", 'KALENDARZ WYDARZEŃ WIRTUALNY SPACER KONTAKT polski English Uczelnia Oferta edukacyjna Studenci Współpraca Działalność WSEI Hackathon WSEICRAFT Hackathon Sheep Your Hack Konferencja Smart City Wynajem sal WSPÓŁPRACA Oferta dla firm Oferta pracy w WSEI DZIEKANAT E-wnioski Wirtualny dziekanat Plany zajęć Plany studiów i efekty uczenia się Praktyki Zawodowe Organizacja roku akademickiego Stypendia Program Wysokie Loty Instrukcje obsługi kont studenckich WSEIowe Koło Ratunkowe Platforma edukacyjna e-wsei Opłaty za studia CERTYFIKATY BIBLIOTEKA SAMORZĄD STUDENTÓW WSEI KOŁA NAUKOWE PARK TECHNOLOGICZNY WSEI BIURO WSPÓŁPRACY MIĘDZYNARODOWEJ BIURO KARIER BIURO PEŁNOMOCNIKA REKTORA DS. DOSTĘPNOŚCI REKRUTACJA STUDIA I STOPNIA Informatyka Stosowana Zarządzanie Finanse i Rachunkowość – NOWY PROGRAM Logistyka – NOWY KIERUNEK 2024 STUDIA II STOPNIA Informatyka Stosowana – NOWOŚĆ Zarządzanie – NOWOŚĆ STUDIA PODYPLOMOWE Kursy O UCZELNI Historia i misja System jakości kształcenia WSEI w pigułce Dlaczego WSEI Rada Przedsiębiorców WSEI Centrum e-learningu Konferencje naukowe Tożsamość wizualna Władze Uczelni ZAKŁADY NAUKOWO-DYDAKTYCZNE Zakład Informatyki Zakład Zarządzania i Rachunkowości Studium Języków Obcych PROJEKTY Działania informacyjne – e-learning Projekt “Uczelnie Szkołom – o finansach z NBP. Edycja II” Projekt “Letnie wtorki z WSEI” z Fundacją Internationaler Bund Polska i UNICEF WSEI w Krakowie – Uczelnia dostępna Zapytania ofertowe Wydawnictwo Naukowe WSEI Zeszyty Naukowe Blog WSEI Home Studia I stopnia Informatyka Stosowana Informatyka Stosowana Informacje o kierunku Ścieżki kształcenia Programowanie aplikacji Programowanie i analiza danych Sieci komputerowe Gry komputerowe i multimedia INNE KIERUNKI STUDIÓW Informatyka Stosowana Zarządzanie Finanse i Rachunkowość – NOWY PROGRAM Logistyka NOWY KIERUNEK 2024 Studia podyplomowe Zarządzanie II stopnia – NOWOŚĆ Informatyka Stosowana II stopnia – NOWOŚĆ Uzyskiwany Tytuł inżynier Typ studiów stacjonarne i niestacjonarne Czas trwania studiów 3,5 roku (7 semestrów) Język wykładowy polski Partnerzy Informatyka stosowana – o kierunku Postawiliśmy sobie cel: być liderem w nauczaniu technologii Microsoft w Małopolsce. Bazujemy wyłącznie na środowiskach deweloperskich, bazodanowych, serwerowych Microsoft i jesteśmy w tym naprawdę dobrzy! Oparliśmy nauczanie w 100% o kursy komercyjne Microsoft, które są rozpoznawalne i cenione na całym świecie. Informatyka stosowana – dla kogo? Dla każdego, kto pasjonuje się programowaniem aplikacji, analizą danych czy sieciami komputerowymi. Nasi partnerzy, firmy z branży IT, z którymi opracowaliśmy program studiów na kierunku Informatyka stosowana, podkreślają, że to doskonała ścieżka dla osób, które chcą w pełni przygotować się do pracy w zawodzie, zarówno pod kątem teoretycznym, jak i praktycznym. Informatyka stosowana – wykładowcy praktycy Nasi wykładowcy to praktycy, posiadający wieloletnie doświadczenie w branży IT. Dzięki nim będziesz mieć możliwość uczenia się i rozwijania']], 'uris': None, 'data': None, 'metadatas': [[{'chunk_index': 1, 'source': 'studenci_.txt'}, {'chunk_index': 0, 'source': 'kandydaci_studia-i-stopnia_informatyka-stosowana_.txt'}]], 'distances': [[0.739189169491639, 0.7562637231006495]], 'included': [<IncludeEnum.distances: 'distances'>, <IncludeEnum.documents: 'documents'>, <IncludeEnum.metadatas: 'metadatas'>]}\n"
     ]
    }
   ],
   "source": [
    "query = \"jaka jest oferta edukacyjna na wyższej szkole ekonomii i informatyki\"\n",
    "query_embedding = emb_text(query)\n",
    "\n",
    "results = collection.query(\n",
    "    query_embeddings=[query_embedding],\n",
    "    n_results=2\n",
    ")\n",
    "\n",
    "print(results)\n"
   ]
  },
  {
   "cell_type": "code",
   "execution_count": 3,
   "metadata": {},
   "outputs": [],
   "source": [
    "def answer_query(query):\n",
    "    query_embedding = emb_text(query)\n",
    "\n",
    "    results = collection.query(\n",
    "        query_embeddings=[query_embedding],\n",
    "        n_results=10\n",
    "    )\n",
    "\n",
    "    context = \"\"\n",
    "\n",
    "    for doc in results['documents'][0]:\n",
    "        context += f\"{doc} \\n\"\n",
    "\n",
    "    open('./_data/context.txt', 'w', encoding='utf-8').write(context)\n",
    "    \n",
    "    asistant_response = client.chat.completions.create(\n",
    "        model=\"gpt-4o-mini\",\n",
    "        messages=[\n",
    "            {\"role\": \"system\", \"content\": \"Human: You are an AI assistant. You are able to find answers to the questions from the contextual passage snippets provided.\"},\n",
    "            {\"role\": \"user\", \"content\": \n",
    "            f\"\"\"\n",
    "            Use the following pieces of information enclosed in <context> tags to provide an answer to the question enclosed in <question> tags.\n",
    "            <context>\n",
    "            {context}\n",
    "            </context>\n",
    "            <question>\n",
    "            {query}\n",
    "            </question>\n",
    "             \"\"\"\n",
    "            },\n",
    "        ]\n",
    "    )\n",
    "    \n",
    "    return asistant_response.choices[0].message.content"
   ]
  },
  {
   "cell_type": "code",
   "execution_count": 10,
   "metadata": {},
   "outputs": [
    {
     "data": {
      "text/plain": [
       "'Na nadchodzących wydarzeniach w Wyższej Szkole Ekonomii i Informatyki (WSEI) planowane są m.in.:\\n\\n1. Hackathon WSEICRAFT, w ramach którego zespoły mają za zadanie zaprojektować jedną grę komputerową w ciągu 24 godzin.\\n2. Hackathon Sheep Your Hack, który również jest 24-godzinnym maratonem programowania, mającym na celu stworzenie minimalnej wersji produktu (MVP) aplikacji biznesowej.\\n3. Konferencja Smart City, organizowana w celu podniesienia poziomu zaawansowania samorządów we wdrażaniu zasad zrównoważonego rozwoju.\\n\\nTe wydarzenia są częścią bogatej oferty uczelni, która stawia na innowacyjność, rozwój i współpracę z różnymi instytucjami.'"
      ]
     },
     "execution_count": 10,
     "metadata": {},
     "output_type": "execute_result"
    }
   ],
   "source": [
    "answer_query(\"Jak mogę się skontaktować z WSEI?\")"
   ]
  }
 ],
 "metadata": {
  "kernelspec": {
   "display_name": "Python 3",
   "language": "python",
   "name": "python3"
  },
  "language_info": {
   "codemirror_mode": {
    "name": "ipython",
    "version": 3
   },
   "file_extension": ".py",
   "mimetype": "text/x-python",
   "name": "python",
   "nbconvert_exporter": "python",
   "pygments_lexer": "ipython3",
   "version": "3.13.1"
  }
 },
 "nbformat": 4,
 "nbformat_minor": 2
}
